{
 "cells": [
  {
   "cell_type": "markdown",
   "metadata": {},
   "source": [
    "# Environment setup for data frames tutorial\n",
    "\n",
    "## Bogumił Kamiński"
   ]
  },
  {
   "cell_type": "markdown",
   "metadata": {},
   "source": [
    "Welcome to DataFrames.jl introduction!\n",
    "\n",
    "This set of Jupyter notebooks is intended to give you an overwiew of what functionality DataFrames.jl has based on practical examples.\n",
    "\n",
    "You can find reviews of functionality of DataFrames.jl (not as exercises as this tutorial but task-type oriented) in the following locations:\n",
    "* an official manual at https://juliadata.github.io/DataFrames.jl/stable/\n",
    "* a tutorial going through all functionalities of DataFrames.jl at https://github.com/bkamins/Julia-DataFrames-Tutorial\n",
    "\n",
    "We also assume that you have a basic knowledge of the Julia language and the Julia ecosystem. There are great tutorials on this topic in [JuliaAcademy](https://juliaacademy.com/), so I encourage you to check them out.\n",
    "\n",
    "As this is a hands-on tutorial you can expect that the examples will be implemented in a way as I would write them when doing actual project."
   ]
  },
  {
   "cell_type": "markdown",
   "metadata": {},
   "source": [
    "The notebooks were prepared under Julia 1.5.3 and tested under Julia 1.6.1. If you have a different version of Julia installed change the kernel in *Kernel/Change kernel* option in menu (assuming you are on a Julia 1.x all examples should work without a problem)."
   ]
  },
  {
   "cell_type": "code",
   "execution_count": 1,
   "metadata": {},
   "outputs": [
    {
     "data": {
      "text/plain": [
       "v\"1.6.3\""
      ]
     },
     "execution_count": 1,
     "metadata": {},
     "output_type": "execute_result"
    }
   ],
   "source": [
    "VERSION"
   ]
  },
  {
   "cell_type": "markdown",
   "metadata": {},
   "source": [
    "Jupyter Notebook automatically activates project environment if it is found in the working directory.\n",
    "\n",
    "So first let us check if we have Project.toml and Manifest.toml files present (they should be present if you cloned the repository of this tutorial)."
   ]
  },
  {
   "cell_type": "code",
   "execution_count": 2,
   "metadata": {},
   "outputs": [
    {
     "data": {
      "text/plain": [
       "2-element BitVector:\n",
       " 0\n",
       " 0"
      ]
     },
     "execution_count": 2,
     "metadata": {},
     "output_type": "execute_result"
    }
   ],
   "source": [
    "isfile.([\"Project.toml\", \"Manifest.toml\"])"
   ]
  },
  {
   "cell_type": "markdown",
   "metadata": {},
   "source": [
    "You should get `1` printed (meaning `true`) in both entries of a vector.\n",
    "\n",
    "Now we are sure that you are going to use exactly the same versions of the packages that I use when running this tutorial.\n",
    "\n",
    "Let us check what packages (and in what versions) we will use."
   ]
  },
  {
   "cell_type": "code",
   "execution_count": 3,
   "metadata": {},
   "outputs": [
    {
     "name": "stdout",
     "output_type": "stream",
     "text": [
      "\u001b[32m\u001b[1m      Status\u001b[22m\u001b[39m `C:\\Users\\CaioSainVallio\\.julia\\environments\\v1.6\\Project.toml`\n",
      " \u001b[90m [7073ff75] \u001b[39mIJulia v1.23.2\n"
     ]
    }
   ],
   "source": [
    "] status"
   ]
  },
  {
   "cell_type": "code",
   "execution_count": 5,
   "metadata": {},
   "outputs": [
    {
     "name": "stderr",
     "output_type": "stream",
     "text": [
      "\u001b[32m\u001b[1m    Updating\u001b[22m\u001b[39m registry at `C:\\Users\\CaioSainVallio\\.julia\\registries\\General`\n",
      "\u001b[32m\u001b[1m    Updating\u001b[22m\u001b[39m git-repo `https://github.com/JuliaRegistries/General.git`\n",
      "\u001b[32m\u001b[1m   Resolving\u001b[22m\u001b[39m package versions...\n",
      "\u001b[32m\u001b[1m   Installed\u001b[22m\u001b[39m InvertedIndices ─ v1.1.0\n",
      "\u001b[32m\u001b[1m   Installed\u001b[22m\u001b[39m PooledArrays ──── v1.3.0\n",
      "\u001b[32m\u001b[1m   Installed\u001b[22m\u001b[39m DataFrames ────── v1.2.2\n",
      "\u001b[32m\u001b[1m   Installed\u001b[22m\u001b[39m PrettyTables ──── v1.2.2\n",
      "\u001b[32m\u001b[1m    Updating\u001b[22m\u001b[39m `C:\\Users\\CaioSainVallio\\.julia\\environments\\v1.6\\Project.toml`\n",
      " \u001b[90m [a93c6f00] \u001b[39m\u001b[92m+ DataFrames v1.2.2\u001b[39m\n",
      "\u001b[32m\u001b[1m    Updating\u001b[22m\u001b[39m `C:\\Users\\CaioSainVallio\\.julia\\environments\\v1.6\\Manifest.toml`\n",
      " \u001b[90m [34da2185] \u001b[39m\u001b[92m+ Compat v3.39.0\u001b[39m\n",
      " \u001b[90m [a8cc5b0e] \u001b[39m\u001b[92m+ Crayons v4.0.4\u001b[39m\n",
      " \u001b[90m [9a962f9c] \u001b[39m\u001b[92m+ DataAPI v1.9.0\u001b[39m\n",
      " \u001b[90m [a93c6f00] \u001b[39m\u001b[92m+ DataFrames v1.2.2\u001b[39m\n",
      " \u001b[90m [864edb3b] \u001b[39m\u001b[92m+ DataStructures v0.18.10\u001b[39m\n",
      " \u001b[90m [e2d170a0] \u001b[39m\u001b[92m+ DataValueInterfaces v1.0.0\u001b[39m\n",
      " \u001b[90m [59287772] \u001b[39m\u001b[92m+ Formatting v0.4.2\u001b[39m\n",
      " \u001b[90m [41ab1584] \u001b[39m\u001b[92m+ InvertedIndices v1.1.0\u001b[39m\n",
      " \u001b[90m [82899510] \u001b[39m\u001b[92m+ IteratorInterfaceExtensions v1.0.0\u001b[39m\n",
      " \u001b[90m [e1d29d7a] \u001b[39m\u001b[92m+ Missings v1.0.2\u001b[39m\n",
      " \u001b[90m [bac558e1] \u001b[39m\u001b[92m+ OrderedCollections v1.4.1\u001b[39m\n",
      " \u001b[90m [2dfb63ee] \u001b[39m\u001b[92m+ PooledArrays v1.3.0\u001b[39m\n",
      " \u001b[90m [08abe8d2] \u001b[39m\u001b[92m+ PrettyTables v1.2.2\u001b[39m\n",
      " \u001b[90m [189a3867] \u001b[39m\u001b[92m+ Reexport v1.2.2\u001b[39m\n",
      " \u001b[90m [a2af1166] \u001b[39m\u001b[92m+ SortingAlgorithms v1.0.1\u001b[39m\n",
      " \u001b[90m [3783bdb8] \u001b[39m\u001b[92m+ TableTraits v1.0.1\u001b[39m\n",
      " \u001b[90m [bd369af6] \u001b[39m\u001b[92m+ Tables v1.6.0\u001b[39m\n",
      " \u001b[90m [8bb1440f] \u001b[39m\u001b[92m+ DelimitedFiles\u001b[39m\n",
      " \u001b[90m [8ba89e20] \u001b[39m\u001b[92m+ Distributed\u001b[39m\n",
      " \u001b[90m [9fa8497b] \u001b[39m\u001b[92m+ Future\u001b[39m\n",
      " \u001b[90m [37e2e46d] \u001b[39m\u001b[92m+ LinearAlgebra\u001b[39m\n",
      " \u001b[90m [1a1011a3] \u001b[39m\u001b[92m+ SharedArrays\u001b[39m\n",
      " \u001b[90m [2f01184e] \u001b[39m\u001b[92m+ SparseArrays\u001b[39m\n",
      " \u001b[90m [10745b16] \u001b[39m\u001b[92m+ Statistics\u001b[39m\n",
      "\u001b[32m\u001b[1mPrecompiling\u001b[22m\u001b[39m project...\n",
      "\u001b[32m  ✓ \u001b[39m\u001b[90mInvertedIndices\u001b[39m\n",
      "\u001b[32m  ✓ \u001b[39m\u001b[90mPooledArrays\u001b[39m\n",
      "\u001b[32m  ✓ \u001b[39m\u001b[90mPrettyTables\u001b[39m\n",
      "\u001b[32m  ✓ \u001b[39mDataFrames\n",
      "  4 dependencies successfully precompiled in 45 seconds (28 already precompiled)\n"
     ]
    }
   ],
   "source": [
    "] add DataFrames"
   ]
  },
  {
   "cell_type": "code",
   "execution_count": 6,
   "metadata": {},
   "outputs": [
    {
     "name": "stderr",
     "output_type": "stream",
     "text": [
      "\u001b[32m\u001b[1m   Resolving\u001b[22m\u001b[39m package versions...\n",
      "\u001b[32m\u001b[1m   Installed\u001b[22m\u001b[39m CodecZlib ────────── v0.7.0\n",
      "\u001b[32m\u001b[1m   Installed\u001b[22m\u001b[39m InlineStrings ────── v1.0.1\n",
      "\u001b[32m\u001b[1m   Installed\u001b[22m\u001b[39m WeakRefStrings ───── v1.4.1\n",
      "\u001b[32m\u001b[1m   Installed\u001b[22m\u001b[39m SentinelArrays ───── v1.3.7\n",
      "\u001b[32m\u001b[1m   Installed\u001b[22m\u001b[39m FilePathsBase ────── v0.9.12\n",
      "\u001b[32m\u001b[1m   Installed\u001b[22m\u001b[39m TranscodingStreams ─ v0.9.6\n",
      "\u001b[32m\u001b[1m   Installed\u001b[22m\u001b[39m CSV ──────────────── v0.9.6\n",
      "\u001b[32m\u001b[1m    Updating\u001b[22m\u001b[39m `C:\\Users\\CaioSainVallio\\.julia\\environments\\v1.6\\Project.toml`\n",
      " \u001b[90m [336ed68f] \u001b[39m\u001b[92m+ CSV v0.9.6\u001b[39m\n",
      "\u001b[32m\u001b[1m    Updating\u001b[22m\u001b[39m `C:\\Users\\CaioSainVallio\\.julia\\environments\\v1.6\\Manifest.toml`\n",
      " \u001b[90m [336ed68f] \u001b[39m\u001b[92m+ CSV v0.9.6\u001b[39m\n",
      " \u001b[90m [944b1d66] \u001b[39m\u001b[92m+ CodecZlib v0.7.0\u001b[39m\n",
      " \u001b[90m [48062228] \u001b[39m\u001b[92m+ FilePathsBase v0.9.12\u001b[39m\n",
      " \u001b[90m [842dd82b] \u001b[39m\u001b[92m+ InlineStrings v1.0.1\u001b[39m\n",
      " \u001b[90m [91c51154] \u001b[39m\u001b[92m+ SentinelArrays v1.3.7\u001b[39m\n",
      " \u001b[90m [3bb67fe8] \u001b[39m\u001b[92m+ TranscodingStreams v0.9.6\u001b[39m\n",
      " \u001b[90m [ea10d353] \u001b[39m\u001b[92m+ WeakRefStrings v1.4.1\u001b[39m\n",
      "\u001b[32m\u001b[1mPrecompiling\u001b[22m\u001b[39m project...\n",
      "\u001b[32m  ✓ \u001b[39m\u001b[90mTranscodingStreams\u001b[39m\n",
      "\u001b[32m  ✓ \u001b[39m\u001b[90mFilePathsBase\u001b[39m\n",
      "\u001b[32m  ✓ \u001b[39m\u001b[90mSentinelArrays\u001b[39m\n",
      "\u001b[32m  ✓ \u001b[39m\u001b[90mInlineStrings\u001b[39m\n",
      "\u001b[32m  ✓ \u001b[39m\u001b[90mCodecZlib\u001b[39m\n",
      "\u001b[32m  ✓ \u001b[39m\u001b[90mWeakRefStrings\u001b[39m\n",
      "\u001b[32m  ✓ \u001b[39mCSV\n",
      "  7 dependencies successfully precompiled in 13 seconds (32 already precompiled)\n"
     ]
    }
   ],
   "source": [
    "] add CSV"
   ]
  },
  {
   "cell_type": "code",
   "execution_count": 7,
   "metadata": {},
   "outputs": [
    {
     "name": "stderr",
     "output_type": "stream",
     "text": [
      "\u001b[32m\u001b[1m   Resolving\u001b[22m\u001b[39m package versions...\n",
      "\u001b[32m\u001b[1m   Installed\u001b[22m\u001b[39m FreqTables ──────── v0.4.5\n",
      "\u001b[32m\u001b[1m   Installed\u001b[22m\u001b[39m Combinatorics ───── v1.0.2\n",
      "\u001b[32m\u001b[1m   Installed\u001b[22m\u001b[39m NamedArrays ─────── v0.9.6\n",
      "\u001b[32m\u001b[1m   Installed\u001b[22m\u001b[39m CategoricalArrays ─ v0.10.1\n",
      "\u001b[32m\u001b[1m    Updating\u001b[22m\u001b[39m `C:\\Users\\CaioSainVallio\\.julia\\environments\\v1.6\\Project.toml`\n",
      " \u001b[90m [da1fdf0e] \u001b[39m\u001b[92m+ FreqTables v0.4.5\u001b[39m\n",
      "\u001b[32m\u001b[1m    Updating\u001b[22m\u001b[39m `C:\\Users\\CaioSainVallio\\.julia\\environments\\v1.6\\Manifest.toml`\n",
      " \u001b[90m [324d7699] \u001b[39m\u001b[92m+ CategoricalArrays v0.10.1\u001b[39m\n",
      " \u001b[90m [861a8166] \u001b[39m\u001b[92m+ Combinatorics v1.0.2\u001b[39m\n",
      " \u001b[90m [da1fdf0e] \u001b[39m\u001b[92m+ FreqTables v0.4.5\u001b[39m\n",
      " \u001b[90m [86f7a689] \u001b[39m\u001b[92m+ NamedArrays v0.9.6\u001b[39m\n",
      " \u001b[90m [ae029012] \u001b[39m\u001b[92m+ Requires v1.1.3\u001b[39m\n",
      "\u001b[32m\u001b[1mPrecompiling\u001b[22m\u001b[39m project...\n",
      "\u001b[32m  ✓ \u001b[39m\u001b[90mCombinatorics\u001b[39m\n",
      "\u001b[32m  ✓ \u001b[39m\u001b[90mCategoricalArrays\u001b[39m\n",
      "\u001b[32m  ✓ \u001b[39m\u001b[90mNamedArrays\u001b[39m\n",
      "\u001b[32m  ✓ \u001b[39mFreqTables\n",
      "  4 dependencies successfully precompiled in 6 seconds (40 already precompiled)\n"
     ]
    }
   ],
   "source": [
    "] add FreqTables"
   ]
  },
  {
   "cell_type": "code",
   "execution_count": 8,
   "metadata": {},
   "outputs": [
    {
     "name": "stderr",
     "output_type": "stream",
     "text": [
      "\u001b[32m\u001b[1m   Resolving\u001b[22m\u001b[39m package versions...\n",
      "\u001b[32m\u001b[1m   Installed\u001b[22m\u001b[39m Rmath_jll ──────── v0.3.0+0\n",
      "\u001b[32m\u001b[1m   Installed\u001b[22m\u001b[39m Rmath ──────────── v0.7.0\n",
      "\u001b[32m\u001b[1m   Installed\u001b[22m\u001b[39m PDMats ─────────── v0.11.1\n",
      "\u001b[32m\u001b[1m   Installed\u001b[22m\u001b[39m StatsModels ────── v0.6.27\n",
      "\u001b[32m\u001b[1m   Installed\u001b[22m\u001b[39m GLM ────────────── v1.5.1\n",
      "\u001b[32m\u001b[1m   Installed\u001b[22m\u001b[39m QuadGK ─────────── v2.4.2\n",
      "\u001b[32m\u001b[1m   Installed\u001b[22m\u001b[39m FillArrays ─────── v0.12.7\n",
      "\u001b[32m\u001b[1m   Installed\u001b[22m\u001b[39m OpenSpecFun_jll ── v0.5.5+0\n",
      "\u001b[32m\u001b[1m   Installed\u001b[22m\u001b[39m ShiftedArrays ──── v1.0.0\n",
      "\u001b[32m\u001b[1m   Installed\u001b[22m\u001b[39m SpecialFunctions ─ v1.7.0\n",
      "\u001b[32m\u001b[1m   Installed\u001b[22m\u001b[39m Distributions ──── v0.25.20\n",
      "\u001b[32m\u001b[1m   Installed\u001b[22m\u001b[39m StatsFuns ──────── v0.9.12\n",
      "\u001b[32m\u001b[1m    Updating\u001b[22m\u001b[39m `C:\\Users\\CaioSainVallio\\.julia\\environments\\v1.6\\Project.toml`\n",
      " \u001b[90m [38e38edf] \u001b[39m\u001b[92m+ GLM v1.5.1\u001b[39m\n",
      "\u001b[32m\u001b[1m    Updating\u001b[22m\u001b[39m `C:\\Users\\CaioSainVallio\\.julia\\environments\\v1.6\\Manifest.toml`\n",
      " \u001b[90m [d360d2e6] \u001b[39m\u001b[92m+ ChainRulesCore v1.10.0\u001b[39m\n",
      " \u001b[90m [31c24e10] \u001b[39m\u001b[92m+ Distributions v0.25.20\u001b[39m\n",
      " \u001b[90m [ffbed154] \u001b[39m\u001b[92m+ DocStringExtensions v0.8.5\u001b[39m\n",
      " \u001b[90m [1a297f60] \u001b[39m\u001b[92m+ FillArrays v0.12.7\u001b[39m\n",
      " \u001b[90m [38e38edf] \u001b[39m\u001b[92m+ GLM v1.5.1\u001b[39m\n",
      " \u001b[90m [92d709cd] \u001b[39m\u001b[92m+ IrrationalConstants v0.1.1\u001b[39m\n",
      " \u001b[90m [2ab3a3ac] \u001b[39m\u001b[92m+ LogExpFunctions v0.3.3\u001b[39m\n",
      " \u001b[90m [90014a1f] \u001b[39m\u001b[92m+ PDMats v0.11.1\u001b[39m\n",
      " \u001b[90m [1fd47b50] \u001b[39m\u001b[92m+ QuadGK v2.4.2\u001b[39m\n",
      " \u001b[90m [79098fc4] \u001b[39m\u001b[92m+ Rmath v0.7.0\u001b[39m\n",
      " \u001b[90m [1277b4bf] \u001b[39m\u001b[92m+ ShiftedArrays v1.0.0\u001b[39m\n",
      " \u001b[90m [276daf66] \u001b[39m\u001b[92m+ SpecialFunctions v1.7.0\u001b[39m\n",
      " \u001b[90m [82ae8749] \u001b[39m\u001b[92m+ StatsAPI v1.0.0\u001b[39m\n",
      " \u001b[90m [2913bbd2] \u001b[39m\u001b[92m+ StatsBase v0.33.12\u001b[39m\n",
      " \u001b[90m [4c63d2b9] \u001b[39m\u001b[92m+ StatsFuns v0.9.12\u001b[39m\n",
      " \u001b[90m [3eaba693] \u001b[39m\u001b[92m+ StatsModels v0.6.27\u001b[39m\n",
      " \u001b[90m [efe28fd5] \u001b[39m\u001b[92m+ OpenSpecFun_jll v0.5.5+0\u001b[39m\n",
      " \u001b[90m [f50d1b31] \u001b[39m\u001b[92m+ Rmath_jll v0.3.0+0\u001b[39m\n",
      " \u001b[90m [4607b0f0] \u001b[39m\u001b[92m+ SuiteSparse\u001b[39m\n",
      " \u001b[90m [e66e0078] \u001b[39m\u001b[92m+ CompilerSupportLibraries_jll\u001b[39m\n",
      " \u001b[90m [05823500] \u001b[39m\u001b[92m+ OpenLibm_jll\u001b[39m\n",
      "\u001b[32m\u001b[1mPrecompiling\u001b[22m\u001b[39m project...\n",
      "\u001b[32m  ✓ \u001b[39m\u001b[90mOpenLibm_jll\u001b[39m\n",
      "\u001b[32m  ✓ \u001b[39m\u001b[90mPDMats\u001b[39m\n",
      "\u001b[32m  ✓ \u001b[39m\u001b[90mShiftedArrays\u001b[39m\n",
      "\u001b[32m  ✓ \u001b[39m\u001b[90mFillArrays\u001b[39m\n",
      "\u001b[32m  ✓ \u001b[39m\u001b[90mRmath_jll\u001b[39m\n",
      "\u001b[32m  ✓ \u001b[39m\u001b[90mOpenSpecFun_jll\u001b[39m\n",
      "\u001b[32m  ✓ \u001b[39m\u001b[90mQuadGK\u001b[39m\n",
      "\u001b[32m  ✓ \u001b[39m\u001b[90mRmath\u001b[39m\n",
      "\u001b[32m  ✓ \u001b[39m\u001b[90mSpecialFunctions\u001b[39m\n",
      "\u001b[32m  ✓ \u001b[39m\u001b[90mStatsFuns\u001b[39m\n",
      "\u001b[32m  ✓ \u001b[39m\u001b[90mStatsModels\u001b[39m\n",
      "\u001b[32m  ✓ \u001b[39m\u001b[90mDistributions\u001b[39m\n",
      "\u001b[32m  ✓ \u001b[39mGLM\n",
      "  13 dependencies successfully precompiled in 26 seconds (51 already precompiled)\n"
     ]
    }
   ],
   "source": [
    "] add GLM"
   ]
  },
  {
   "cell_type": "code",
   "execution_count": 9,
   "metadata": {},
   "outputs": [
    {
     "name": "stderr",
     "output_type": "stream",
     "text": [
      "\u001b[32m\u001b[1m   Resolving\u001b[22m\u001b[39m package versions...\n",
      "\u001b[32m\u001b[1m   Installed\u001b[22m\u001b[39m PyPlot ─ v2.10.0\n",
      "\u001b[32m\u001b[1m    Updating\u001b[22m\u001b[39m `C:\\Users\\CaioSainVallio\\.julia\\environments\\v1.6\\Project.toml`\n",
      " \u001b[90m [d330b81b] \u001b[39m\u001b[92m+ PyPlot v2.10.0\u001b[39m\n",
      "\u001b[32m\u001b[1m    Updating\u001b[22m\u001b[39m `C:\\Users\\CaioSainVallio\\.julia\\environments\\v1.6\\Manifest.toml`\n",
      " \u001b[90m [3da002f7] \u001b[39m\u001b[92m+ ColorTypes v0.11.0\u001b[39m\n",
      " \u001b[90m [5ae59095] \u001b[39m\u001b[92m+ Colors v0.12.8\u001b[39m\n",
      " \u001b[90m [53c48c17] \u001b[39m\u001b[92m+ FixedPointNumbers v0.8.4\u001b[39m\n",
      " \u001b[90m [b964fa9f] \u001b[39m\u001b[92m+ LaTeXStrings v1.2.1\u001b[39m\n",
      " \u001b[90m [1914dd2f] \u001b[39m\u001b[92m+ MacroTools v0.5.8\u001b[39m\n",
      " \u001b[90m [438e738f] \u001b[39m\u001b[92m+ PyCall v1.92.3\u001b[39m\n",
      " \u001b[90m [d330b81b] \u001b[39m\u001b[92m+ PyPlot v2.10.0\u001b[39m\n",
      "\u001b[32m\u001b[1mPrecompiling\u001b[22m\u001b[39m project...\n",
      "\u001b[32m  ✓ \u001b[39mPyPlot\n",
      "  1 dependency successfully precompiled in 8 seconds (70 already precompiled)\n"
     ]
    }
   ],
   "source": [
    "] add PyPlot"
   ]
  },
  {
   "cell_type": "code",
   "execution_count": 10,
   "metadata": {},
   "outputs": [
    {
     "name": "stderr",
     "output_type": "stream",
     "text": [
      "\u001b[32m\u001b[1m   Resolving\u001b[22m\u001b[39m package versions...\n",
      "\u001b[32m\u001b[1m   Installed\u001b[22m\u001b[39m Pipe ─ v1.3.0\n",
      "\u001b[32m\u001b[1m    Updating\u001b[22m\u001b[39m `C:\\Users\\CaioSainVallio\\.julia\\environments\\v1.6\\Project.toml`\n",
      " \u001b[90m [b98c9c47] \u001b[39m\u001b[92m+ Pipe v1.3.0\u001b[39m\n",
      "\u001b[32m\u001b[1m    Updating\u001b[22m\u001b[39m `C:\\Users\\CaioSainVallio\\.julia\\environments\\v1.6\\Manifest.toml`\n",
      " \u001b[90m [b98c9c47] \u001b[39m\u001b[92m+ Pipe v1.3.0\u001b[39m\n",
      "\u001b[32m\u001b[1mPrecompiling\u001b[22m\u001b[39m project...\n",
      "\u001b[32m  ✓ \u001b[39mPipe\n",
      "  1 dependency successfully precompiled in 2 seconds (71 already precompiled)\n"
     ]
    }
   ],
   "source": [
    "] add Pipe"
   ]
  },
  {
   "cell_type": "code",
   "execution_count": 11,
   "metadata": {},
   "outputs": [
    {
     "name": "stderr",
     "output_type": "stream",
     "text": [
      "\u001b[32m\u001b[1m   Resolving\u001b[22m\u001b[39m package versions...\n",
      "\u001b[32m\u001b[1m   Installed\u001b[22m\u001b[39m Lz4_jll ───── v1.9.3+0\n",
      "\u001b[32m\u001b[1m   Installed\u001b[22m\u001b[39m CodecZstd ─── v0.7.2\n",
      "\u001b[32m\u001b[1m   Installed\u001b[22m\u001b[39m ArrowTypes ── v1.2.1\n",
      "\u001b[32m\u001b[1m   Installed\u001b[22m\u001b[39m CodecLz4 ──── v0.4.0\n",
      "\u001b[32m\u001b[1m   Installed\u001b[22m\u001b[39m CEnum ─────── v0.4.1\n",
      "\u001b[32m\u001b[1m   Installed\u001b[22m\u001b[39m ExprTools ─── v0.1.6\n",
      "\u001b[32m\u001b[1m   Installed\u001b[22m\u001b[39m Mocking ───── v0.7.3\n",
      "\u001b[32m\u001b[1m   Installed\u001b[22m\u001b[39m Arrow ─────── v2.1.0\n",
      "\u001b[32m\u001b[1m   Installed\u001b[22m\u001b[39m BitIntegers ─ v0.2.5\n",
      "\u001b[32m\u001b[1m   Installed\u001b[22m\u001b[39m TimeZones ─── v1.6.0\n",
      "\u001b[32m\u001b[1m    Updating\u001b[22m\u001b[39m `C:\\Users\\CaioSainVallio\\.julia\\environments\\v1.6\\Project.toml`\n",
      " \u001b[90m [69666777] \u001b[39m\u001b[92m+ Arrow v2.1.0\u001b[39m\n",
      "\u001b[32m\u001b[1m    Updating\u001b[22m\u001b[39m `C:\\Users\\CaioSainVallio\\.julia\\environments\\v1.6\\Manifest.toml`\n",
      " \u001b[90m [69666777] \u001b[39m\u001b[92m+ Arrow v2.1.0\u001b[39m\n",
      " \u001b[90m [31f734f8] \u001b[39m\u001b[92m+ ArrowTypes v1.2.1\u001b[39m\n",
      " \u001b[90m [c3b6d118] \u001b[39m\u001b[92m+ BitIntegers v0.2.5\u001b[39m\n",
      " \u001b[90m [fa961155] \u001b[39m\u001b[92m+ CEnum v0.4.1\u001b[39m\n",
      " \u001b[90m [5ba52731] \u001b[39m\u001b[92m+ CodecLz4 v0.4.0\u001b[39m\n",
      " \u001b[90m [6b39b394] \u001b[39m\u001b[92m+ CodecZstd v0.7.2\u001b[39m\n",
      " \u001b[90m [e2ba6199] \u001b[39m\u001b[92m+ ExprTools v0.1.6\u001b[39m\n",
      " \u001b[90m [78c3b35d] \u001b[39m\u001b[92m+ Mocking v0.7.3\u001b[39m\n",
      " \u001b[90m [3cdcf5f2] \u001b[39m\u001b[92m+ RecipesBase v1.1.2\u001b[39m\n",
      " \u001b[90m [f269a46b] \u001b[39m\u001b[92m+ TimeZones v1.6.0\u001b[39m\n",
      " \u001b[90m [5ced341a] \u001b[39m\u001b[92m+ Lz4_jll v1.9.3+0\u001b[39m\n",
      " \u001b[90m [3161d3a3] \u001b[39m\u001b[92m+ Zstd_jll v1.5.0+0\u001b[39m\n",
      " \u001b[90m [4af54fe1] \u001b[39m\u001b[92m+ LazyArtifacts\u001b[39m\n",
      "\u001b[32m\u001b[1m    Building\u001b[22m\u001b[39m TimeZones → `C:\\Users\\CaioSainVallio\\.julia\\scratchspaces\\44cfe95a-1eb2-52ea-b672-e2afdf69b78f\\9408d0773ed2dbfba68ebc0e2d5dd388a5e668a9\\build.log`\n",
      "\u001b[32m\u001b[1mPrecompiling\u001b[22m\u001b[39m project...\n",
      "\u001b[32m  ✓ \u001b[39m\u001b[90mCEnum\u001b[39m\n",
      "\u001b[32m  ✓ \u001b[39m\u001b[90mArrowTypes\u001b[39m\n",
      "\u001b[32m  ✓ \u001b[39m\u001b[90mBitIntegers\u001b[39m\n",
      "\u001b[32m  ✓ \u001b[39m\u001b[90mLz4_jll\u001b[39m\n",
      "\u001b[32m  ✓ \u001b[39m\u001b[90mCodecZstd\u001b[39m\n",
      "\u001b[32m  ✓ \u001b[39m\u001b[90mCodecLz4\u001b[39m\n",
      "\u001b[32m  ✓ \u001b[39mArrow\n",
      "  7 dependencies successfully precompiled in 13 seconds (77 already precompiled)\n"
     ]
    }
   ],
   "source": [
    "] add Arrow"
   ]
  },
  {
   "cell_type": "code",
   "execution_count": 12,
   "metadata": {},
   "outputs": [
    {
     "name": "stderr",
     "output_type": "stream",
     "text": [
      "\u001b[32m\u001b[1m   Resolving\u001b[22m\u001b[39m package versions...\n",
      "\u001b[32m\u001b[1m   Installed\u001b[22m\u001b[39m ConstructionBase ─ v1.3.0\n",
      "\u001b[32m\u001b[1m   Installed\u001b[22m\u001b[39m Unitful ────────── v1.9.0\n",
      "\u001b[32m\u001b[1m    Updating\u001b[22m\u001b[39m `C:\\Users\\CaioSainVallio\\.julia\\environments\\v1.6\\Project.toml`\n",
      " \u001b[90m [1986cc42] \u001b[39m\u001b[92m+ Unitful v1.9.0\u001b[39m\n",
      "\u001b[32m\u001b[1m    Updating\u001b[22m\u001b[39m `C:\\Users\\CaioSainVallio\\.julia\\environments\\v1.6\\Manifest.toml`\n",
      " \u001b[90m [187b0558] \u001b[39m\u001b[92m+ ConstructionBase v1.3.0\u001b[39m\n",
      " \u001b[90m [1986cc42] \u001b[39m\u001b[92m+ Unitful v1.9.0\u001b[39m\n",
      "\u001b[32m\u001b[1mPrecompiling\u001b[22m\u001b[39m project...\n",
      "\u001b[32m  ✓ \u001b[39m\u001b[90mConstructionBase\u001b[39m\n",
      "\u001b[32m  ✓ \u001b[39mUnitful\n",
      "  2 dependencies successfully precompiled in 26 seconds (84 already precompiled)\n"
     ]
    }
   ],
   "source": [
    "] add Unitful"
   ]
  },
  {
   "cell_type": "code",
   "execution_count": 13,
   "metadata": {},
   "outputs": [
    {
     "name": "stdout",
     "output_type": "stream",
     "text": [
      "\u001b[32m\u001b[1m      Status\u001b[22m\u001b[39m `C:\\Users\\CaioSainVallio\\.julia\\environments\\v1.6\\Project.toml`\n",
      " \u001b[90m [69666777] \u001b[39mArrow v2.1.0\n",
      " \u001b[90m [336ed68f] \u001b[39mCSV v0.9.6\n",
      " \u001b[90m [a93c6f00] \u001b[39mDataFrames v1.2.2\n",
      " \u001b[90m [da1fdf0e] \u001b[39mFreqTables v0.4.5\n",
      " \u001b[90m [38e38edf] \u001b[39mGLM v1.5.1\n",
      " \u001b[90m [7073ff75] \u001b[39mIJulia v1.23.2\n",
      " \u001b[90m [b98c9c47] \u001b[39mPipe v1.3.0\n",
      " \u001b[90m [d330b81b] \u001b[39mPyPlot v2.10.0\n",
      " \u001b[90m [1986cc42] \u001b[39mUnitful v1.9.0\n"
     ]
    }
   ],
   "source": [
    "] status"
   ]
  },
  {
   "cell_type": "markdown",
   "metadata": {},
   "source": [
    "These notebooks should work with DataFrames versions 0.22 and 1.2."
   ]
  },
  {
   "cell_type": "markdown",
   "metadata": {},
   "source": [
    "If checking the status of the packages gives a warning that some of the packages are not downloaded run the `instantiate` instruction from the following line."
   ]
  },
  {
   "cell_type": "code",
   "execution_count": 15,
   "metadata": {
    "scrolled": true
   },
   "outputs": [],
   "source": [
    "] instantiate"
   ]
  },
  {
   "cell_type": "markdown",
   "metadata": {},
   "source": [
    "<div class=\"alert alert-block alert-info\">\n",
    "    <p><b>PyPlot.jl configuration:</b></p>\n",
    "    <p>In some environments automatic installation of PyPlot.jl might fail. If you encounter this ussue please refer to <a href=\"https://github.com/JuliaPy/PyPlot.jl#installation\">the PyPlot.jl installation instructions</a>. </p>\n",
    "</div>\n",
    "\n",
    "In particular typically executing the following commands:\n",
    "\n",
    "```\n",
    "using Pkg\n",
    "ENV[\"PYTHON\"]=\"\"\n",
    "Pkg.build(\"PyCall\")\n",
    "```\n",
    "\n",
    "should resolve the PyPlot.jl installation issues. However, on OS X sometimes more configuration steps are required. You can find the detailed instructions [here](https://github.com/JuliaPy/PyPlot.jl#os-x)."
   ]
  },
  {
   "cell_type": "markdown",
   "metadata": {},
   "source": [
    "As you see we will use the following packages:\n",
    "\n",
    "Package | Description\n",
    ":-|:-\n",
    "DataFrames.jl | a core package that is a subject of this tutorial; it is used for data manipulation; we use version 0.21.0 of this package\n",
    "CSV.jl | a package for reading/writing of CSV files\n",
    "FreqTables.jl | a very useful package for creating frequency tables\n",
    "GLM.jl | a package for fitting Generalized Linear Models (as no data science tutorial would be complete without building some predictive model)\n",
    "PyPlot.jl | a package for plotting; there are many options in the Julia ecosystem to choose from; in this tutorial we use PyPlot.jl as it is based on Matplotlib so if you have experience with the Python data science technology stack it should be familiar\n",
    "Pipe.jl | a package that makes chaining of operations super powerful (which is something you probably know from `%>%` in R)\n",
    "Arrow.jl | a package for working with data in Apache Arrow format\n",
    "Unitful.jl | a package for working with physical units (like kg, cm, ...)"
   ]
  }
 ],
 "metadata": {
  "@webio": {
   "lastCommId": null,
   "lastKernelId": null
  },
  "kernelspec": {
   "display_name": "Julia 1.6.3",
   "language": "julia",
   "name": "julia-1.6"
  },
  "language_info": {
   "file_extension": ".jl",
   "mimetype": "application/julia",
   "name": "julia",
   "version": "1.6.3"
  }
 },
 "nbformat": 4,
 "nbformat_minor": 4
}
